{
  "cells": [
    {
      "cell_type": "markdown",
      "metadata": {
        "id": "view-in-github",
        "colab_type": "text"
      },
      "source": [
        "<a href=\"https://colab.research.google.com/github/YannnLing/CHN_REC/blob/main/Chinese_recog.ipynb\" target=\"_parent\"><img src=\"https://colab.research.google.com/assets/colab-badge.svg\" alt=\"Open In Colab\"/></a>"
      ]
    },
    {
      "cell_type": "markdown",
      "metadata": {
        "id": "3Mo3-H7KtM60"
      },
      "source": [
        "# 自學 - 繁體中文手寫辨識\n"
      ]
    },
    {
      "cell_type": "code",
      "execution_count": 25,
      "metadata": {
        "id": "tPHR1IF6uDLM"
      },
      "outputs": [],
      "source": [
        "#!git clone https://github.com/chenkenanalytic/handwritting_data_all.git"
      ]
    },
    {
      "cell_type": "code",
      "execution_count": 26,
      "metadata": {
        "id": "2CrcFLodxJhn"
      },
      "outputs": [],
      "source": [
        "#!cat /content/handwritting_data_all/all_data.zip* > /content/handwritting_data_all/all_data.zip"
      ]
    },
    {
      "cell_type": "code",
      "execution_count": 27,
      "metadata": {
        "collapsed": true,
        "id": "HJn64u7O0Gfs"
      },
      "outputs": [],
      "source": [
        "#!unzip -O big5 /content/handwritting_data_all/all_data.zip -d \"/content\""
      ]
    },
    {
      "cell_type": "markdown",
      "metadata": {
        "id": "hE4U_dCA3Hnp"
      },
      "source": [
        "### 匯入套件"
      ]
    },
    {
      "cell_type": "code",
      "execution_count": 28,
      "metadata": {
        "id": "HOtFpDxq3Gne"
      },
      "outputs": [],
      "source": [
        "from platform import python_version\n",
        "import os\n",
        "import shutil\n",
        "import numpy as np\n",
        "import pandas as pd\n",
        "# import PIL.Imag\n",
        "from matplotlib import pyplot as plt\n",
        "from matplotlib.font_manager import findfont, FontProperties"
      ]
    },
    {
      "cell_type": "markdown",
      "metadata": {
        "id": "2lFMmNzs6LA1"
      },
      "source": [
        "### 繁體中文顯示設定\n"
      ]
    },
    {
      "cell_type": "code",
      "execution_count": 29,
      "metadata": {
        "id": "DmoOs4AX6Qh0",
        "colab": {
          "base_uri": "https://localhost:8080/"
        },
        "outputId": "84611ba7-0932-4ad3-d443-1ddc3796dace"
      },
      "outputs": [
        {
          "output_type": "stream",
          "name": "stdout",
          "text": [
            "Cloning into 'matplotlib_Display_Chinese_in_Colab'...\n",
            "remote: Enumerating objects: 15, done.\u001b[K\n",
            "remote: Counting objects: 100% (15/15), done.\u001b[K\n",
            "remote: Compressing objects: 100% (13/13), done.\u001b[K\n",
            "remote: Total 15 (delta 3), reused 0 (delta 0), pack-reused 0\u001b[K\n",
            "Receiving objects: 100% (15/15), 13.26 MiB | 7.08 MiB/s, done.\n",
            "Resolving deltas: 100% (3/3), done.\n"
          ]
        }
      ],
      "source": [
        "default_type = findfont(FontProperties(family = FontProperties().get_family()))\n",
        "ttf_path = '/'.join( default_type.split('/')[:-1] )  # 預設字型的資料夾路徑\n",
        "\n",
        "os.chdir( '/content' )                               # 將當前工作目錄切換到 /content，這是 Google Colab 的預設工作目錄。\n",
        "if not os.path.exists( '/content/matplotlib_Display_Chinese_in_Colab' ):         # 檢查 /content 目錄下是否已經存在 matplotlib_Display_Chinese_in_Colab 這個資料夾。\n",
        "    !git clone https://github.com/YenLinWu/matplotlib_Display_Chinese_in_Colab   # 如果 matplotlib_Display_Chinese_in_Colab 資料夾不存在，這行程式碼會執行 git clone 命令，\n",
        "                                                                                  # 從 GitHub 上複製 matplotlib_Display_Chinese_in_Colab 專案到本地的 /content 目錄中。\n",
        "os.chdir( '/content/matplotlib_Display_Chinese_in_Colab' )\n",
        "for item in os.listdir():                            # os.listdir():返回包含目錄中所有檔案和子目錄名稱的列表。\n",
        "    if item.endswith( '.ttf' ):                      # 檢查是否以\".ttf\"結尾，是則返回TRUE，否返回FALSE。\n",
        "        msj_ttf_path = os.path.abspath( item )       # os.path.abspath 會將相對路徑轉換為絕對路徑。\n",
        "        msj_name = msj_ttf_path.split('/')[-1]       # 檔案路徑取最後一個斜線後的字串。\n"
      ]
    },
    {
      "cell_type": "code",
      "source": [
        "try:\n",
        "    shutil.move( msj_ttf_path, ttf_path )     # 將 msj_ttf_path（找到的字型檔案的絕對路徑）移動到 ttf_path（預設字型資料夾路徑）\n",
        "except:                                       # 這樣可以確保該字型檔案可以被 matplotlib 使用。\n",
        "    pass\n",
        "finally:                                      # 無論 try 區塊中是否發生例外情況都會執行。\n",
        "    os.chdir( '/content' )\n",
        "    shutil.rmtree( '/content/matplotlib_Display_Chinese_in_Colab' )   # 刪除 /content/matplotlib_Display_Chinese_in_Colab 目錄及其所有內容。\n",
        "\n",
        "font = FontProperties( fname=ttf_path+'/'+msj_name )                  # 設定字型屬性"
      ],
      "metadata": {
        "id": "v_fBWpOjNdoO"
      },
      "execution_count": 30,
      "outputs": []
    },
    {
      "cell_type": "code",
      "source": [
        "import tensorflow as tf\n",
        "from tensorflow.keras.preprocessing.image import load_img, ImageDataGenerator\n",
        "from tensorflow.keras.models import Sequential, load_model\n",
        "from tensorflow.keras.layers import Conv2D, MaxPooling2D, Flatten, Dense, Dropout\n",
        "from tensorflow.keras.optimizers import *\n",
        "\n",
        "print( 'Python Version: ', python_version() )\n",
        "print( 'TensorFlow Version: ', tf.__version__ )"
      ],
      "metadata": {
        "colab": {
          "base_uri": "https://localhost:8080/"
        },
        "id": "nJ0Lg2FzdGVd",
        "outputId": "91faf7c3-aa10-492a-b498-265fa03d258a"
      },
      "execution_count": 31,
      "outputs": [
        {
          "output_type": "stream",
          "name": "stdout",
          "text": [
            "Python Version:  3.10.12\n",
            "TensorFlow Version:  2.15.0\n"
          ]
        }
      ]
    },
    {
      "cell_type": "markdown",
      "source": [
        "### 下載繁體中文手寫資料集"
      ],
      "metadata": {
        "id": "kBVuiXjze8TU"
      }
    },
    {
      "cell_type": "code",
      "source": [
        "!git clone https://github.com/AI-FREE-Team/Traditional-Chinese-Handwriting-Dataset.git"
      ],
      "metadata": {
        "colab": {
          "base_uri": "https://localhost:8080/"
        },
        "id": "Km0kXQsKfHnc",
        "outputId": "78c70a85-2d9f-4178-dcb7-2334d7d22f34"
      },
      "execution_count": 32,
      "outputs": [
        {
          "output_type": "stream",
          "name": "stdout",
          "text": [
            "fatal: destination path 'Traditional-Chinese-Handwriting-Dataset' already exists and is not an empty directory.\n"
          ]
        }
      ]
    },
    {
      "cell_type": "code",
      "source": [
        "import os\n",
        "import zipfile\n",
        "import shutil\n",
        "\n",
        "OutputFolder = '/content/Handwritten_Data'"
      ],
      "metadata": {
        "id": "tbyq9fb7f8oc"
      },
      "execution_count": 33,
      "outputs": []
    },
    {
      "cell_type": "code",
      "source": [
        "if not os.path.exists(OutputFolder):   # 檢查指定的路徑是否存在，為Boolean\n",
        "  os.mkdir(OutputFolder)               # 創建OutputFolder資料夾\n",
        "  print( f'Create the new \"{OutputFolder}\" folder' )   # f 字符串用來格式化輸出，將 OutputFolder 的值插入到字符串中。\n",
        "\n",
        "os.chdir(OutputFolder)\n",
        "\n",
        "### 檢查路徑 : 顯示當前工作目錄的完整路徑\n",
        "!pwd"
      ],
      "metadata": {
        "colab": {
          "base_uri": "https://localhost:8080/"
        },
        "id": "FPurTKG1gFsT",
        "outputId": "fb7265e1-8ef4-4fe0-d729-cd694c17f877"
      },
      "execution_count": 34,
      "outputs": [
        {
          "output_type": "stream",
          "name": "stdout",
          "text": [
            "/content/Handwritten_Data\n"
          ]
        }
      ]
    },
    {
      "cell_type": "code",
      "source": [
        "CompressedFiles = []\n",
        "\n",
        "os.chdir('/content/Traditional-Chinese-Handwriting-Dataset/data')\n",
        "\n",
        "for item in os.listdir():   # os.listdir() 函數返回一個包含目錄中所有文件和目錄名稱的列表。\n",
        "  if item.endswith('.zip'): # Check for \".zip\" extension.\n",
        "    file_path = os.path.abspath(item) # Get full path of the compressed file.\n",
        "    CompressedFiles.append(file_path)\n",
        "\n",
        "for file in CompressedFiles:\n",
        "  # Construct a ZipFile object with the filename, and then extract it.\n",
        "  zip_ref = zipfile.ZipFile(file).extractall(OutputFolder)   # 將 file 壓縮文件中的所有內容解壓到 OutputFolder 目錄中。\n",
        "\n",
        "  source_path = OutputFolder + '/cleaned_data(50_50)'\n",
        "  img_list = os.listdir(source_path)\n",
        "\n",
        "  for img in img_list:\n",
        "      shutil.move(source_path + '/' + img, OutputFolder) # Move a file to another location.\n",
        "\n",
        "  shutil.rmtree(OutputFolder + '/cleaned_data(50_50)')\n",
        "  print(f'Decompress successfully {file} ......')\n",
        "\n",
        "print( 'Moving images according to traditional Chinese characters......' )"
      ],
      "metadata": {
        "id": "m_5Z3ILIhK-k",
        "colab": {
          "base_uri": "https://localhost:8080/"
        },
        "outputId": "ecba5e03-0cf6-40de-ae88-aee4121810d3"
      },
      "execution_count": 35,
      "outputs": [
        {
          "output_type": "stream",
          "name": "stdout",
          "text": [
            "Decompress successfully /content/Traditional-Chinese-Handwriting-Dataset/data/cleaned_data(50_50)-20200420T071507Z-001.zip ......\n",
            "Decompress successfully /content/Traditional-Chinese-Handwriting-Dataset/data/cleaned_data(50_50)-20200420T071507Z-004.zip ......\n",
            "Decompress successfully /content/Traditional-Chinese-Handwriting-Dataset/data/cleaned_data(50_50)-20200420T071507Z-003.zip ......\n",
            "Decompress successfully /content/Traditional-Chinese-Handwriting-Dataset/data/cleaned_data(50_50)-20200420T071507Z-002.zip ......\n",
            "Moving images according to traditional Chinese characters......\n"
          ]
        }
      ]
    },
    {
      "cell_type": "code",
      "source": [
        "ImageList = os.listdir(OutputFolder)\n",
        "ImageList = [img for img in ImageList if len(img)>1]\n",
        "WordList = list(set([w.split('_')[0] for w in ImageList]))\n",
        "\n",
        "for w in WordList:\n",
        "  try:\n",
        "    os.chdir(OutputFolder) # Change the current working directory to OutputPath.\n",
        "    os.mkdir(w) # Create the new word folder in OutputPath.\n",
        "    MoveList = [img for img in ImageList if w in img]\n",
        "\n",
        "  except:\n",
        "    os.chdir(OutputFolder)\n",
        "    MoveList = [ img for img in ImageList if w in img ]\n",
        "\n",
        "  finally:\n",
        "    for img in MoveList:\n",
        "      old_path = OutputFolder + '/' + img\n",
        "      new_path = OutputFolder + '/' + w + '/' + img\n",
        "      shutil.move( old_path, new_path )\n",
        "\n",
        "print( 'Data Deployment completed.' )"
      ],
      "metadata": {
        "colab": {
          "base_uri": "https://localhost:8080/"
        },
        "id": "6fCR0ZFAxGg4",
        "outputId": "1d3d261e-c28c-48be-eb42-540983b9e1e3"
      },
      "execution_count": 36,
      "outputs": [
        {
          "output_type": "stream",
          "name": "stdout",
          "text": [
            "Data Deployment completed.\n"
          ]
        }
      ]
    },
    {
      "cell_type": "code",
      "source": [
        "a=0\n",
        "b=0\n",
        "\n",
        "for item in os.listdir(OutputFolder):\n",
        "  a += 1\n",
        "  for i in os.listdir(OutputFolder + '/' + item):\n",
        "    b +=1\n",
        "\n",
        "\n",
        "print('總共: ' + str(a) + ' 個字(資料夾) / 總共: ' + str(b) + '個樣本')\n",
        "print('平均每個字有: ' + str(b/a) + ' 個樣本')"
      ],
      "metadata": {
        "colab": {
          "base_uri": "https://localhost:8080/"
        },
        "id": "Z0sQP25-xWln",
        "outputId": "16ea3533-a703-497e-84e0-c9ba40c1062b"
      },
      "execution_count": 37,
      "outputs": [
        {
          "output_type": "stream",
          "name": "stdout",
          "text": [
            "總共: 4803 個字(資料夾) / 總共: 250712個樣本\n",
            "平均每個字有: 52.19904226525089 個樣本\n"
          ]
        }
      ]
    },
    {
      "cell_type": "markdown",
      "source": [
        "###訓練集和測試集"
      ],
      "metadata": {
        "id": "ChL27nyK1xs_"
      }
    },
    {
      "cell_type": "code",
      "source": [
        "os.chdir('/content')\n",
        "os.mkdir('Traditional_Chinese_Testing_Data')\n",
        "os.chdir('/content/Traditional_Chinese_Testing_Data')\n",
        "\n",
        "!git clone https://github.com/AI-FREE-Team/Handwriting-Chinese-Characters-Recognition"
      ],
      "metadata": {
        "colab": {
          "base_uri": "https://localhost:8080/",
          "height": 228
        },
        "id": "9StIM9UD17An",
        "outputId": "67274730-ef27-4d30-a691-219946c23e03"
      },
      "execution_count": 38,
      "outputs": [
        {
          "output_type": "error",
          "ename": "FileExistsError",
          "evalue": "[Errno 17] File exists: 'Traditional_Chinese_Testing_Data'",
          "traceback": [
            "\u001b[0;31m---------------------------------------------------------------------------\u001b[0m",
            "\u001b[0;31mFileExistsError\u001b[0m                           Traceback (most recent call last)",
            "\u001b[0;32m<ipython-input-38-3de6cd809cf8>\u001b[0m in \u001b[0;36m<cell line: 2>\u001b[0;34m()\u001b[0m\n\u001b[1;32m      1\u001b[0m \u001b[0mos\u001b[0m\u001b[0;34m.\u001b[0m\u001b[0mchdir\u001b[0m\u001b[0;34m(\u001b[0m\u001b[0;34m'/content'\u001b[0m\u001b[0;34m)\u001b[0m\u001b[0;34m\u001b[0m\u001b[0;34m\u001b[0m\u001b[0m\n\u001b[0;32m----> 2\u001b[0;31m \u001b[0mos\u001b[0m\u001b[0;34m.\u001b[0m\u001b[0mmkdir\u001b[0m\u001b[0;34m(\u001b[0m\u001b[0;34m'Traditional_Chinese_Testing_Data'\u001b[0m\u001b[0;34m)\u001b[0m\u001b[0;34m\u001b[0m\u001b[0;34m\u001b[0m\u001b[0m\n\u001b[0m\u001b[1;32m      3\u001b[0m \u001b[0mos\u001b[0m\u001b[0;34m.\u001b[0m\u001b[0mchdir\u001b[0m\u001b[0;34m(\u001b[0m\u001b[0;34m'/content/Traditional_Chinese_Testing_Data'\u001b[0m\u001b[0;34m)\u001b[0m\u001b[0;34m\u001b[0m\u001b[0;34m\u001b[0m\u001b[0m\n\u001b[1;32m      4\u001b[0m \u001b[0;34m\u001b[0m\u001b[0m\n\u001b[1;32m      5\u001b[0m \u001b[0mget_ipython\u001b[0m\u001b[0;34m(\u001b[0m\u001b[0;34m)\u001b[0m\u001b[0;34m.\u001b[0m\u001b[0msystem\u001b[0m\u001b[0;34m(\u001b[0m\u001b[0;34m'git clone https://github.com/AI-FREE-Team/Handwriting-Chinese-Characters-Recognition'\u001b[0m\u001b[0;34m)\u001b[0m\u001b[0;34m\u001b[0m\u001b[0;34m\u001b[0m\u001b[0m\n",
            "\u001b[0;31mFileExistsError\u001b[0m: [Errno 17] File exists: 'Traditional_Chinese_Testing_Data'"
          ]
        }
      ]
    },
    {
      "cell_type": "code",
      "source": [
        "'''\n",
        "RawDataPath: 繁中手寫資料集路徑\n",
        "TraningDataPath: 訓練集路徑\n",
        "TestingDataPath: 自製繁中手寫資料集路徑\n",
        "'''\n",
        "RawDataPath = '/content/Handwritten_Data'\n",
        "TraningDataPath = '/content/Traditional_Chinese_Testing_Data/Handwriting-Chinese-Characters-Recognition/train data'\n",
        "TestingDataPath = '/content/Traditional_Chinese_Testing_Data/Handwriting-Chinese-Characters-Recognition/test data'\n",
        "\n",
        "os.chdir( RawDataPath )\n",
        "print( 'Current working directory:', os.getcwd() )"
      ],
      "metadata": {
        "id": "DVuL_YUY2o6-"
      },
      "execution_count": null,
      "outputs": []
    },
    {
      "cell_type": "markdown",
      "source": [
        "####訓練集"
      ],
      "metadata": {
        "id": "Md17HKfR3bAN"
      }
    },
    {
      "cell_type": "code",
      "source": [
        "SelectedWords = [ '人', '工', '智', '慧' ]\n",
        "\n",
        "os.chdir( RawDataPath )\n",
        "try:\n",
        "    os.mkdir( TraningDataPath )\n",
        "\n",
        "except:\n",
        "    shutil.rmtree( TraningDataPath )\n",
        "    os.mkdir( TraningDataPath )\n",
        "\n",
        "finally:\n",
        "    nonexistence = []\n",
        "    for c in SelectedWords:\n",
        "        try:\n",
        "            shutil.copytree( RawDataPath+'/'+c, TraningDataPath+'/'+c )\n",
        "        except:\n",
        "            nonexistence.append( c )\n",
        "\n",
        "    if len(nonexistence)>1:\n",
        "        print( f'There are {len(nonexistence)} characters that are not in dataset. \\n{nonexistence}' )\n",
        "    elif len(nonexistence)==1:\n",
        "        print( f'There is {len(nonexistence)} character that is not in dataset. \\n{nonexistence}' )\n",
        "    else: print('')"
      ],
      "metadata": {
        "id": "wax0yncb3g0u"
      },
      "execution_count": null,
      "outputs": []
    },
    {
      "cell_type": "code",
      "source": [
        "def Loading_Image( image_path ):\n",
        "    img = load_img( image_path )         # 從指定的文件路徑加載圖像並返回圖像。\n",
        "    img = tf.constant( np.array(img) )   # np.array(img) 將圖像對象轉換為 NumPy 數組。\n",
        "    return img\n",
        "\n",
        "def Show( image, title=None ) :\n",
        "    if len( image.shape )>3 :\n",
        "        image = tf.squeeze( image, axis=0 )   # 如果圖像的形狀（shape）中有超過三個維度，則使用 tf.squeeze 函數將其壓縮為三維。\n",
        "\n",
        "    plt.imshow( image )\n",
        "    if title:\n",
        "        plt.title( title, fontproperties=font )\n",
        "\n",
        "img_list = []\n",
        "for c in SelectedWords :\n",
        "    folder_path = TraningDataPath+'/'+c\n",
        "    file_names = os.listdir( folder_path )\n",
        "    for i in range(5) :\n",
        "        img_list.append( folder_path+'/'+file_names[i] )\n",
        "\n",
        "plt.gcf().set_size_inches( (12,12) )    # 設置當前圖形尺寸\n",
        "for i in range(20):\n",
        "    plt.subplot(4,5,i+1)\n",
        "    title = img_list[i].split('/')[-1].split('_')[-2]\n",
        "    img = Loading_Image( img_list[i] )\n",
        "    Show( img, title )"
      ],
      "metadata": {
        "id": "7OJve8OL6fYW"
      },
      "execution_count": null,
      "outputs": []
    },
    {
      "cell_type": "markdown",
      "source": [
        "### 超參數"
      ],
      "metadata": {
        "id": "KYA8k5x7_SyU"
      }
    },
    {
      "cell_type": "code",
      "source": [
        "Num_Classes = len(SelectedWords)\n",
        "Image_Size = ( 50, 50 )\n",
        "Epochs = 50\n",
        "Batch_Size = 8"
      ],
      "metadata": {
        "id": "a6hzbJQ-_OsG"
      },
      "execution_count": null,
      "outputs": []
    },
    {
      "cell_type": "markdown",
      "source": [
        "###Data Augamentation"
      ],
      "metadata": {
        "id": "EjMcstgs_0ay"
      }
    },
    {
      "cell_type": "markdown",
      "source": [
        "####訓練集"
      ],
      "metadata": {
        "id": "YGzOculQ_6ur"
      }
    },
    {
      "cell_type": "code",
      "source": [
        "Train_Data_Genetor = ImageDataGenerator( rescale = 1./255,                      # 將圖像的像素值縮放到0-1之間。通常圖像像素值在0-255之間，除以255后，所有像素值都在0-1範圍内。\n",
        "                                         validation_split = 0.2,                # 將數據集分成訓練集和驗證集，其中20%的數據將用於驗證，其餘80%用於訓練。\n",
        "                                         width_shift_range = 0.05,              # 隨機水平平移圖像，平移幅度在圖像總寬度的5%之内。這個参數增强了圖像的鲁棒性，使模型能夠更好地適應位置變化。\n",
        "                                         height_shift_range = 0.05,             # 隨機垂直平移圖像，平移幅度在圖像總高度的5%之内。與水平平移類似，增強了模型對位置變化的適應能力。\n",
        "                                         zoom_range = 0.1,                      # 隨機縮放圖像，縮放範圍在90%到110%之間。這個参数可以讓模型更好地適應不同大小的對象。\n",
        "                                         horizontal_flip = False )              # 不隨機水平翻轉圖像。如果設置为True，圖像将有50%的機率進行水平翻轉。"
      ],
      "metadata": {
        "id": "_H1e48xr_49L"
      },
      "execution_count": null,
      "outputs": []
    },
    {
      "cell_type": "code",
      "source": [
        "Train_Generator = Train_Data_Genetor.flow_from_directory( TraningDataPath ,\n",
        "                                                          target_size = Image_Size,     # 將所有圖像調整為指定大小\n",
        "                                                          batch_size = Batch_Size,      # 批次大小，每次生成的圖像數目\n",
        "                                                          class_mode = 'categorical',   # 類别模式，將標籤轉換為分類格式（用於多分類）\n",
        "                                                          shuffle = True,               # 是否隨機打亂數據順序\n",
        "                                                          subset = 'training' )         # 使用數據集的訓練子集"
      ],
      "metadata": {
        "id": "8fJ2c1x4VRqL"
      },
      "execution_count": null,
      "outputs": []
    },
    {
      "cell_type": "code",
      "source": [
        "def Plot_Genetor( imgs, labels=[], grid=(1,10), size=(20,2) ):\n",
        "    n = len( imgs )\n",
        "    plt.gcf().set_size_inches(size)     # plt.gcf():返回當前的圖形對象;set_size_inches:設置當前圖形的大小\n",
        "    for i in range(n):\n",
        "        ax = plt.subplot( grid[0], grid[1], i+1 )   # grid[0] 和 grid[1] 分別指定了子圖的行數和列數。\n",
        "        ax.imshow( imgs[i] )\n",
        "        if len(labels):\n",
        "            ax.set_title( f'Label={labels[i]}' )\n",
        "        ax.set_xticks([]); ax.set_yticks([])\n",
        "    plt.show()\n",
        "\n",
        "batch = 1\n",
        "for data, label in Train_Generator:\n",
        "    print( f'batch {batch}: \\n shape of images: {data.shape} \\n shape of labels: {label.shape}' )\n",
        "    Plot_Genetor( data, label )\n",
        "    batch += 1\n",
        "    if batch > len(Train_Generator):\n",
        "        break\n",
        "\n",
        "print( f'There are {len(Train_Generator)} batches.' )"
      ],
      "metadata": {
        "id": "_1YSm1hdW5Wk",
        "collapsed": true
      },
      "execution_count": null,
      "outputs": []
    },
    {
      "cell_type": "markdown",
      "source": [
        "#### 驗證集"
      ],
      "metadata": {
        "id": "OZS5csynjxxX"
      }
    },
    {
      "cell_type": "code",
      "source": [
        "Val_Data_Genetor = ImageDataGenerator( rescale=1./255, validation_split = 0.2 )"
      ],
      "metadata": {
        "id": "rrd3-gvAkB6c"
      },
      "execution_count": null,
      "outputs": []
    },
    {
      "cell_type": "code",
      "source": [
        "Val_Generator = Train_Data_Genetor.flow_from_directory( TraningDataPath ,\n",
        "                                                        target_size = Image_Size,\n",
        "                                                        batch_size = Batch_Size,\n",
        "                                                        class_mode = 'categorical',\n",
        "                                                        shuffle = True,\n",
        "                                                        subset = 'validation' )"
      ],
      "metadata": {
        "id": "Zu3xJw9XnkOC"
      },
      "execution_count": null,
      "outputs": []
    },
    {
      "cell_type": "markdown",
      "source": [
        "### 建立及編譯模型"
      ],
      "metadata": {
        "id": "CuI0Ynxunsf3"
      }
    },
    {
      "cell_type": "code",
      "source": [
        "CNN = Sequential( name = 'CNN_Model' )\n",
        "CNN.add( Conv2D( 5, kernel_size = (2,2), padding = 'same',\n",
        "                 input_shape = (Image_Size[0],Image_Size[1],3), name = 'Convolution' ) )\n",
        "CNN.add( MaxPooling2D( pool_size = (2,2), name = 'Pooling' ) )\n",
        "CNN.add( Flatten( name = 'Flatten' ) )\n",
        "CNN.add( Dropout( 0.5, name = 'Dropout_1' ) )\n",
        "CNN.add( Dense( 512, activation = 'relu', name = 'Dense' ) )\n",
        "CNN.add( Dropout( 0.5, name = 'Dropout_2' ) )\n",
        "CNN.add( Dense( Num_Classes, activation = 'softmax', name = 'Softmax' ) )\n",
        "CNN.summary()"
      ],
      "metadata": {
        "colab": {
          "base_uri": "https://localhost:8080/"
        },
        "id": "6Hfz0jCini4e",
        "outputId": "b52d8270-ee8c-42cf-fff0-395cdda1df3e"
      },
      "execution_count": 40,
      "outputs": [
        {
          "output_type": "stream",
          "name": "stdout",
          "text": [
            "Model: \"CNN_Model\"\n",
            "_________________________________________________________________\n",
            " Layer (type)                Output Shape              Param #   \n",
            "=================================================================\n",
            " Convolution (Conv2D)        (None, 50, 50, 5)         65        \n",
            "                                                                 \n",
            " Pooling (MaxPooling2D)      (None, 25, 25, 5)         0         \n",
            "                                                                 \n",
            " Flatten (Flatten)           (None, 3125)              0         \n",
            "                                                                 \n",
            " Dropout_1 (Dropout)         (None, 3125)              0         \n",
            "                                                                 \n",
            " Dense (Dense)               (None, 512)               1600512   \n",
            "                                                                 \n",
            " Dropout_2 (Dropout)         (None, 512)               0         \n",
            "                                                                 \n",
            " Softmax (Dense)             (None, 4)                 2052      \n",
            "                                                                 \n",
            "=================================================================\n",
            "Total params: 1602629 (6.11 MB)\n",
            "Trainable params: 1602629 (6.11 MB)\n",
            "Non-trainable params: 0 (0.00 Byte)\n",
            "_________________________________________________________________\n"
          ]
        }
      ]
    },
    {
      "cell_type": "code",
      "source": [
        "CNN.compile( optimizer = Adam(),\n",
        "             loss = 'categorical_crossentropy',\n",
        "             metrics = ['accuracy'] )"
      ],
      "metadata": {
        "id": "IMj4b_iKpYCG"
      },
      "execution_count": 41,
      "outputs": []
    },
    {
      "cell_type": "markdown",
      "source": [
        "### 訓練及儲存模型"
      ],
      "metadata": {
        "id": "nKZxdWiMpaCg"
      }
    },
    {
      "cell_type": "code",
      "source": [
        "History = CNN.fit( Train_Generator,\n",
        "                   steps_per_epoch = Train_Generator.samples//Batch_Size,\n",
        "                   validation_data = Val_Generator,\n",
        "                   validation_steps = Val_Generator.samples//Batch_Size,\n",
        "                   epochs = Epochs )"
      ],
      "metadata": {
        "colab": {
          "base_uri": "https://localhost:8080/"
        },
        "id": "VxEVCJfnpdAc",
        "outputId": "f80338a2-4673-49d6-e9f5-95a085c6edf3"
      },
      "execution_count": 42,
      "outputs": [
        {
          "output_type": "stream",
          "name": "stdout",
          "text": [
            "Epoch 1/50\n",
            "20/20 [==============================] - 2s 53ms/step - loss: 1.6132 - accuracy: 0.3654 - val_loss: 1.0663 - val_accuracy: 0.4750\n",
            "Epoch 2/50\n",
            "20/20 [==============================] - 1s 37ms/step - loss: 1.0463 - accuracy: 0.5705 - val_loss: 0.7904 - val_accuracy: 0.6750\n",
            "Epoch 3/50\n",
            "20/20 [==============================] - 1s 40ms/step - loss: 0.7339 - accuracy: 0.7051 - val_loss: 0.7677 - val_accuracy: 0.6250\n",
            "Epoch 4/50\n",
            "20/20 [==============================] - 1s 36ms/step - loss: 0.6021 - accuracy: 0.7244 - val_loss: 0.6939 - val_accuracy: 0.6750\n",
            "Epoch 5/50\n",
            "20/20 [==============================] - 1s 41ms/step - loss: 0.4500 - accuracy: 0.8077 - val_loss: 0.5148 - val_accuracy: 0.7750\n",
            "Epoch 6/50\n",
            "20/20 [==============================] - 1s 37ms/step - loss: 0.4387 - accuracy: 0.8269 - val_loss: 0.4453 - val_accuracy: 0.8500\n",
            "Epoch 7/50\n",
            "20/20 [==============================] - 1s 37ms/step - loss: 0.3323 - accuracy: 0.8718 - val_loss: 0.4643 - val_accuracy: 0.8250\n",
            "Epoch 8/50\n",
            "20/20 [==============================] - 1s 37ms/step - loss: 0.4040 - accuracy: 0.8526 - val_loss: 0.7517 - val_accuracy: 0.7750\n",
            "Epoch 9/50\n",
            "20/20 [==============================] - 1s 38ms/step - loss: 0.2615 - accuracy: 0.8974 - val_loss: 0.5340 - val_accuracy: 0.7500\n",
            "Epoch 10/50\n",
            "20/20 [==============================] - 1s 56ms/step - loss: 0.3867 - accuracy: 0.8013 - val_loss: 0.4621 - val_accuracy: 0.7500\n",
            "Epoch 11/50\n",
            "20/20 [==============================] - 1s 59ms/step - loss: 0.3265 - accuracy: 0.8974 - val_loss: 0.3860 - val_accuracy: 0.9000\n",
            "Epoch 12/50\n",
            "20/20 [==============================] - 1s 63ms/step - loss: 0.3323 - accuracy: 0.8718 - val_loss: 0.6709 - val_accuracy: 0.6250\n",
            "Epoch 13/50\n",
            "20/20 [==============================] - 1s 36ms/step - loss: 0.4055 - accuracy: 0.8077 - val_loss: 0.3983 - val_accuracy: 0.8000\n",
            "Epoch 14/50\n",
            "20/20 [==============================] - 1s 40ms/step - loss: 0.2368 - accuracy: 0.9167 - val_loss: 0.4022 - val_accuracy: 0.7750\n",
            "Epoch 15/50\n",
            "20/20 [==============================] - 1s 37ms/step - loss: 0.2863 - accuracy: 0.8846 - val_loss: 0.5053 - val_accuracy: 0.8000\n",
            "Epoch 16/50\n",
            "20/20 [==============================] - 1s 35ms/step - loss: 0.4342 - accuracy: 0.8333 - val_loss: 0.4376 - val_accuracy: 0.8250\n",
            "Epoch 17/50\n",
            "20/20 [==============================] - 1s 40ms/step - loss: 0.3121 - accuracy: 0.8974 - val_loss: 0.5329 - val_accuracy: 0.7500\n",
            "Epoch 18/50\n",
            "20/20 [==============================] - 1s 37ms/step - loss: 0.3028 - accuracy: 0.8974 - val_loss: 0.5702 - val_accuracy: 0.7500\n",
            "Epoch 19/50\n",
            "20/20 [==============================] - 1s 35ms/step - loss: 0.1989 - accuracy: 0.9231 - val_loss: 0.4116 - val_accuracy: 0.8250\n",
            "Epoch 20/50\n",
            "20/20 [==============================] - 1s 36ms/step - loss: 0.2560 - accuracy: 0.9038 - val_loss: 0.4911 - val_accuracy: 0.7750\n",
            "Epoch 21/50\n",
            "20/20 [==============================] - 1s 36ms/step - loss: 0.2402 - accuracy: 0.9038 - val_loss: 0.3736 - val_accuracy: 0.8250\n",
            "Epoch 22/50\n",
            "20/20 [==============================] - 1s 37ms/step - loss: 0.1693 - accuracy: 0.9103 - val_loss: 0.4068 - val_accuracy: 0.8500\n",
            "Epoch 23/50\n",
            "20/20 [==============================] - 1s 60ms/step - loss: 0.2493 - accuracy: 0.9167 - val_loss: 0.5747 - val_accuracy: 0.7250\n",
            "Epoch 24/50\n",
            "20/20 [==============================] - 1s 70ms/step - loss: 0.1892 - accuracy: 0.9231 - val_loss: 0.4099 - val_accuracy: 0.8250\n",
            "Epoch 25/50\n",
            "20/20 [==============================] - 1s 39ms/step - loss: 0.2089 - accuracy: 0.9423 - val_loss: 0.5586 - val_accuracy: 0.8500\n",
            "Epoch 26/50\n",
            "20/20 [==============================] - 1s 37ms/step - loss: 0.2169 - accuracy: 0.9295 - val_loss: 0.3180 - val_accuracy: 0.9000\n",
            "Epoch 27/50\n",
            "20/20 [==============================] - 1s 37ms/step - loss: 0.2252 - accuracy: 0.9103 - val_loss: 0.3137 - val_accuracy: 0.8750\n",
            "Epoch 28/50\n",
            "20/20 [==============================] - 1s 36ms/step - loss: 0.2152 - accuracy: 0.9167 - val_loss: 0.3656 - val_accuracy: 0.8250\n",
            "Epoch 29/50\n",
            "20/20 [==============================] - 1s 36ms/step - loss: 0.1776 - accuracy: 0.9359 - val_loss: 0.3547 - val_accuracy: 0.8500\n",
            "Epoch 30/50\n",
            "20/20 [==============================] - 1s 37ms/step - loss: 0.1588 - accuracy: 0.9359 - val_loss: 0.4499 - val_accuracy: 0.8500\n",
            "Epoch 31/50\n",
            "20/20 [==============================] - 1s 37ms/step - loss: 0.1682 - accuracy: 0.9487 - val_loss: 0.2997 - val_accuracy: 0.8750\n",
            "Epoch 32/50\n",
            "20/20 [==============================] - 1s 37ms/step - loss: 0.1277 - accuracy: 0.9551 - val_loss: 0.2410 - val_accuracy: 0.9250\n",
            "Epoch 33/50\n",
            "20/20 [==============================] - 1s 40ms/step - loss: 0.1866 - accuracy: 0.9167 - val_loss: 0.6336 - val_accuracy: 0.8250\n",
            "Epoch 34/50\n",
            "20/20 [==============================] - 1s 36ms/step - loss: 0.2313 - accuracy: 0.9231 - val_loss: 0.3486 - val_accuracy: 0.9000\n",
            "Epoch 35/50\n",
            "20/20 [==============================] - 1s 63ms/step - loss: 0.2361 - accuracy: 0.9038 - val_loss: 0.3656 - val_accuracy: 0.8000\n",
            "Epoch 36/50\n",
            "20/20 [==============================] - 1s 56ms/step - loss: 0.1619 - accuracy: 0.9359 - val_loss: 0.2212 - val_accuracy: 0.9000\n",
            "Epoch 37/50\n",
            "20/20 [==============================] - 1s 36ms/step - loss: 0.2199 - accuracy: 0.9103 - val_loss: 0.4245 - val_accuracy: 0.8750\n",
            "Epoch 38/50\n",
            "20/20 [==============================] - 1s 38ms/step - loss: 0.2164 - accuracy: 0.9103 - val_loss: 0.6087 - val_accuracy: 0.7250\n",
            "Epoch 39/50\n",
            "20/20 [==============================] - 1s 39ms/step - loss: 0.1170 - accuracy: 0.9423 - val_loss: 0.2029 - val_accuracy: 0.9250\n",
            "Epoch 40/50\n",
            "20/20 [==============================] - 1s 36ms/step - loss: 0.1185 - accuracy: 0.9615 - val_loss: 0.6464 - val_accuracy: 0.8250\n",
            "Epoch 41/50\n",
            "20/20 [==============================] - 1s 37ms/step - loss: 0.0820 - accuracy: 0.9875 - val_loss: 0.2725 - val_accuracy: 0.8500\n",
            "Epoch 42/50\n",
            "20/20 [==============================] - 1s 36ms/step - loss: 0.1251 - accuracy: 0.9551 - val_loss: 0.3738 - val_accuracy: 0.8000\n",
            "Epoch 43/50\n",
            "20/20 [==============================] - 1s 36ms/step - loss: 0.1926 - accuracy: 0.9231 - val_loss: 0.4580 - val_accuracy: 0.8250\n",
            "Epoch 44/50\n",
            "20/20 [==============================] - 1s 36ms/step - loss: 0.1624 - accuracy: 0.9551 - val_loss: 0.3059 - val_accuracy: 0.8750\n",
            "Epoch 45/50\n",
            "20/20 [==============================] - 1s 36ms/step - loss: 0.1391 - accuracy: 0.9487 - val_loss: 0.2916 - val_accuracy: 0.9250\n",
            "Epoch 46/50\n",
            "20/20 [==============================] - 1s 49ms/step - loss: 0.1411 - accuracy: 0.9487 - val_loss: 0.3626 - val_accuracy: 0.8000\n",
            "Epoch 47/50\n",
            "20/20 [==============================] - 1s 59ms/step - loss: 0.1950 - accuracy: 0.9167 - val_loss: 0.3211 - val_accuracy: 0.9250\n",
            "Epoch 48/50\n",
            "20/20 [==============================] - 1s 69ms/step - loss: 0.1778 - accuracy: 0.9423 - val_loss: 0.2166 - val_accuracy: 0.9000\n",
            "Epoch 49/50\n",
            "20/20 [==============================] - 1s 38ms/step - loss: 0.1605 - accuracy: 0.9551 - val_loss: 0.4135 - val_accuracy: 0.8500\n",
            "Epoch 50/50\n",
            "20/20 [==============================] - 1s 36ms/step - loss: 0.2182 - accuracy: 0.9359 - val_loss: 0.6514 - val_accuracy: 0.8000\n"
          ]
        }
      ]
    },
    {
      "cell_type": "code",
      "source": [
        "Train_Accuracy = History.history['accuracy']\n",
        "Val_Accuracy = History.history['val_accuracy']\n",
        "Train_Loss = History.history['loss']\n",
        "Val_Loss = History.history['val_loss']\n",
        "epochs_range = range(Epochs)\n",
        "\n",
        "plt.figure( figsize=(14,4) )\n",
        "plt.subplot( 1,2,1 )\n",
        "plt.plot( range( len(Train_Accuracy) ), Train_Accuracy, label='Train' )\n",
        "plt.plot( range( len(Val_Accuracy) ), Val_Accuracy, label='Validation' )\n",
        "plt.legend( loc='lower right' )\n",
        "plt.title( 'Accuracy' )\n",
        "\n",
        "plt.subplot( 1,2,2 )\n",
        "plt.plot( range( len(Train_Loss) ), Train_Loss, label='Train' )\n",
        "plt.plot( range( len(Val_Loss) ), Val_Loss, label='Validation' )\n",
        "plt.legend( loc='upper right' )\n",
        "plt.title( 'Loss')\n",
        "\n",
        "plt.show()"
      ],
      "metadata": {
        "colab": {
          "base_uri": "https://localhost:8080/",
          "height": 292
        },
        "id": "4p6dkSQeqNyE",
        "outputId": "ec21b7f9-7804-47af-a4af-01cbf45ea656"
      },
      "execution_count": 44,
      "outputs": [
        {
          "output_type": "display_data",
          "data": {
            "text/plain": [
              "<Figure size 1400x400 with 2 Axes>"
            ],
            "image/png": "[encoded data removed]"
          },
          "metadata": {}
        }
      ]
    },
    {
      "cell_type": "markdown",
      "source": [
        "### 儲存模型"
      ],
      "metadata": {
        "id": "xsT95pmiq4Ei"
      }
    },
    {
      "cell_type": "code",
      "source": [
        "os.chdir( '/content' )\n",
        "CNN.save( 'CNN_Model.h5' )"
      ],
      "metadata": {
        "colab": {
          "base_uri": "https://localhost:8080/"
        },
        "id": "ueOOLg6bq_C1",
        "outputId": "8573f76b-54ac-4f0c-fefc-868c4416e793"
      },
      "execution_count": 45,
      "outputs": [
        {
          "output_type": "stream",
          "name": "stderr",
          "text": [
            "/usr/local/lib/python3.10/dist-packages/keras/src/engine/training.py:3103: UserWarning: You are saving your model as an HDF5 file via `model.save()`. This file format is considered legacy. We recommend using instead the native Keras format, e.g. `model.save('my_model.keras')`.\n",
            "  saving_api.save_model(\n"
          ]
        }
      ]
    },
    {
      "cell_type": "markdown",
      "source": [
        "# 自製繁中手寫測試集預測"
      ],
      "metadata": {
        "id": "XvBFQ8QcrAvf"
      }
    },
    {
      "cell_type": "markdown",
      "source": [
        "## 建立自製測試集的生成器( Generator )及走訪器( Iterator )"
      ],
      "metadata": {
        "id": "GY4Se8cvrFg4"
      }
    },
    {
      "cell_type": "code",
      "source": [
        "Test_Data_Genetor = ImageDataGenerator( rescale=1./255 )\n",
        "Test_Generator = Test_Data_Genetor.flow_from_directory( TestingDataPath,\n",
        "                                                        target_size = Image_Size,\n",
        "                                                        shuffle = False,\n",
        "                                                        class_mode = 'categorical' )"
      ],
      "metadata": {
        "colab": {
          "base_uri": "https://localhost:8080/"
        },
        "id": "13aY_3OKrHdg",
        "outputId": "1e0765c2-fb02-484c-c5d8-790ba4f44e41"
      },
      "execution_count": 46,
      "outputs": [
        {
          "output_type": "stream",
          "name": "stdout",
          "text": [
            "Found 8 images belonging to 4 classes.\n"
          ]
        }
      ]
    },
    {
      "cell_type": "code",
      "source": [
        "batch = 1\n",
        "for data, label in Test_Generator:\n",
        "    print( f'batch {batch}: \\n shape of images: {data.shape} \\n shape of labels: {label.shape}' )\n",
        "    Plot_Genetor( data, label )\n",
        "    batch += 1\n",
        "    if batch > 1:\n",
        "        break"
      ],
      "metadata": {
        "colab": {
          "base_uri": "https://localhost:8080/",
          "height": 182
        },
        "id": "zpNbpXKCrCcY",
        "outputId": "035382db-1bf4-4964-ef1f-8af88aa170ad"
      },
      "execution_count": 47,
      "outputs": [
        {
          "output_type": "stream",
          "name": "stdout",
          "text": [
            "batch 1: \n",
            " shape of images: (8, 50, 50, 3) \n",
            " shape of labels: (8, 4)\n"
          ]
        },
        {
          "output_type": "display_data",
          "data": {
            "text/plain": [
              "<Figure size 2000x200 with 8 Axes>"
            ],
            "image/png": "[encoded data removed]"
          },
          "metadata": {}
        }
      ]
    },
    {
      "cell_type": "markdown",
      "source": [
        "## 載入模型且預測"
      ],
      "metadata": {
        "id": "vyR-XA1-rTnM"
      }
    },
    {
      "cell_type": "code",
      "source": [
        "Test_Generator.reset()\n",
        "\n",
        "Predicts=CNN.predict(Test_Generator,verbose=1, steps =8)"
      ],
      "metadata": {
        "colab": {
          "base_uri": "https://localhost:8080/"
        },
        "id": "zEgyBEPlrRSS",
        "outputId": "179f0c41-88d9-4df5-86b8-0af4fb315424"
      },
      "execution_count": 48,
      "outputs": [
        {
          "output_type": "stream",
          "name": "stdout",
          "text": [
            "\r1/8 [==>...........................] - ETA: 0s"
          ]
        },
        {
          "output_type": "stream",
          "name": "stderr",
          "text": [
            "WARNING:tensorflow:Your input ran out of data; interrupting training. Make sure that your dataset or generator can generate at least `steps_per_epoch * epochs` batches (in this case, 8 batches). You may need to use the repeat() function when building your dataset.\n"
          ]
        },
        {
          "output_type": "stream",
          "name": "stdout",
          "text": [
            "\b\b\b\b\b\b\b\b\b\b\b\b\b\b\b\b\b\b\b\b\b\b\b\b\b\b\b\b\b\b\b\b\b\b\b\b\b\b\b\b\b\b\b\b\b\b\r8/8 [==============================] - 0s 3ms/step\n"
          ]
        }
      ]
    },
    {
      "cell_type": "markdown",
      "source": [
        "## 檢視預測結果"
      ],
      "metadata": {
        "id": "do5QzsfZrp2w"
      }
    },
    {
      "cell_type": "code",
      "source": [
        "test_data, test_label = Test_Generator.next()\n",
        "\n",
        "def Plot_Predict( img, labels=[], predicts=[], size=(20,2) ):\n",
        "    plt.gcf().set_size_inches(size)\n",
        "    ax = plt.subplot( )\n",
        "    ax.imshow( img )\n",
        "    ax.set_title( f'Predict={predicts.round(1)} \\nLabel={labels}' )\n",
        "    ax.set_xticks([]); ax.set_yticks([])\n",
        "    plt.show()\n",
        "\n",
        "for data, label, predict_label in zip(test_data,  test_label, Predicts):\n",
        "    Plot_Predict( data, label, predict_label )"
      ],
      "metadata": {
        "colab": {
          "base_uri": "https://localhost:8080/",
          "height": 1000
        },
        "id": "tcdcfpwhrssD",
        "outputId": "cabfcc25-7a15-4239-a497-ea9eaf155172"
      },
      "execution_count": 49,
      "outputs": [
        {
          "output_type": "display_data",
          "data": {
            "text/plain": [
              "<Figure size 2000x200 with 1 Axes>"
            ],
            "image/png": "[encoded data removed]"
          },
          "metadata": {}
        },
        {
          "output_type": "display_data",
          "data": {
            "text/plain": [
              "<Figure size 2000x200 with 1 Axes>"
            ],
            "image/png": "[encoded data removed]"
          },
          "metadata": {}
        },
        {
          "output_type": "display_data",
          "data": {
            "text/plain": [
              "<Figure size 2000x200 with 1 Axes>"
            ],
            "image/png": "[encoded data removed]"
          },
          "metadata": {}
        },
        {
          "output_type": "display_data",
          "data": {
            "text/plain": [
              "<Figure size 2000x200 with 1 Axes>"
            ],
            "image/png": "[encoded data removed]"
          },
          "metadata": {}
        },
        {
          "output_type": "display_data",
          "data": {
            "text/plain": [
              "<Figure size 2000x200 with 1 Axes>"
            ],
            "image/png": "[encoded data removed]"
          },
          "metadata": {}
        },
        {
          "output_type": "display_data",
          "data": {
            "text/plain": [
              "<Figure size 2000x200 with 1 Axes>"
            ],
            "image/png": "[encoded data removed]"
          },
          "metadata": {}
        },
        {
          "output_type": "display_data",
          "data": {
            "text/plain": [
              "<Figure size 2000x200 with 1 Axes>"
            ],
            "image/png": "[encoded data removed]"
          },
          "metadata": {}
        },
        {
          "output_type": "display_data",
          "data": {
            "text/plain": [
              "<Figure size 2000x200 with 1 Axes>"
            ],
            "image/png": "[encoded data removed]"
          },
          "metadata": {}
        }
      ]
    },
    {
      "cell_type": "markdown",
      "source": [
        "## 其他做法\n",
        "\n",
        " - 無分類資料夾預測方法"
      ],
      "metadata": {
        "id": "FPxYNo3jsG6-"
      }
    },
    {
      "cell_type": "code",
      "source": [
        "os.mkdir('test')\n",
        "\n",
        "for i in os.listdir(TestingDataPath):\n",
        "  folder = TestingDataPath + '/' + i\n",
        "  for f in os.listdir(folder):\n",
        "    img_file = folder + '/' + f\n",
        "    shutil.copyfile(img_file,'/content/test/' + f)"
      ],
      "metadata": {
        "id": "_eckptVHsIGm"
      },
      "execution_count": 50,
      "outputs": []
    },
    {
      "cell_type": "code",
      "source": [
        "from keras.preprocessing import image\n",
        "\n",
        "directory = os.fsencode('/content/test')\n",
        "\n",
        "# load trained model\n",
        "model = load_model('CNN_Model.h5')\n",
        "\n",
        "# predict all photos (loop though the folder)\n",
        "for f in os.listdir(directory):\n",
        "    f = os.fsdecode(f)\n",
        "    img = image.load_img('/content/test/'+ str(f), target_size=(50, 50))\n",
        "\n",
        "    x = image.img_to_array(img)\n",
        "    x = np.expand_dims(x, axis = 0)\n",
        "    pred = model.predict(x)\n",
        "\n",
        "    ax = plt.subplot( )\n",
        "    ax.imshow(img)\n",
        "    ax.set_title( f'Predict={pred.round(1)}' )\n",
        "    ax.set_xticks([]); ax.set_yticks([])\n",
        "    plt.gcf().set_size_inches((20,2))\n",
        "    plt.show()\n",
        "    print(f)"
      ],
      "metadata": {
        "colab": {
          "base_uri": "https://localhost:8080/",
          "height": 1000
        },
        "id": "uqd7rYbMt197",
        "outputId": "26dfdd42-2d26-44f0-af8b-d951714520a7"
      },
      "execution_count": 51,
      "outputs": [
        {
          "output_type": "stream",
          "name": "stdout",
          "text": [
            "1/1 [==============================] - 0s 213ms/step\n"
          ]
        },
        {
          "output_type": "display_data",
          "data": {
            "text/plain": [
              "<Figure size 2000x200 with 1 Axes>"
            ],
            "image/png": "[encoded data removed]"
          },
          "metadata": {}
        },
        {
          "output_type": "stream",
          "name": "stdout",
          "text": [
            "工_001.png\n",
            "1/1 [==============================] - 0s 37ms/step\n"
          ]
        },
        {
          "output_type": "display_data",
          "data": {
            "text/plain": [
              "<Figure size 2000x200 with 1 Axes>"
            ],
            "image/png": "[encoded data removed]"
          },
          "metadata": {}
        },
        {
          "output_type": "stream",
          "name": "stdout",
          "text": [
            "智_001.png\n",
            "1/1 [==============================] - 0s 50ms/step\n"
          ]
        },
        {
          "output_type": "display_data",
          "data": {
            "text/plain": [
              "<Figure size 2000x200 with 1 Axes>"
            ],
            "image/png": "[encoded data removed]"
          },
          "metadata": {}
        },
        {
          "output_type": "stream",
          "name": "stdout",
          "text": [
            "慧_001.png\n",
            "1/1 [==============================] - 0s 61ms/step\n"
          ]
        },
        {
          "output_type": "display_data",
          "data": {
            "text/plain": [
              "<Figure size 2000x200 with 1 Axes>"
            ],
            "image/png": "[encoded data removed]"
          },
          "metadata": {}
        },
        {
          "output_type": "stream",
          "name": "stdout",
          "text": [
            "人_001.png\n",
            "1/1 [==============================] - 0s 90ms/step\n"
          ]
        },
        {
          "output_type": "display_data",
          "data": {
            "text/plain": [
              "<Figure size 2000x200 with 1 Axes>"
            ],
            "image/png": "[encoded data removed]"
          },
          "metadata": {}
        },
        {
          "output_type": "stream",
          "name": "stdout",
          "text": [
            "慧_002.png\n",
            "1/1 [==============================] - 0s 71ms/step\n"
          ]
        },
        {
          "output_type": "display_data",
          "data": {
            "text/plain": [
              "<Figure size 2000x200 with 1 Axes>"
            ],
            "image/png": "[encoded data removed]"
          },
          "metadata": {}
        },
        {
          "output_type": "stream",
          "name": "stdout",
          "text": [
            "工_002.png\n",
            "1/1 [==============================] - 0s 48ms/step\n"
          ]
        },
        {
          "output_type": "display_data",
          "data": {
            "text/plain": [
              "<Figure size 2000x200 with 1 Axes>"
            ],
            "image/png": "[encoded data removed]"
          },
          "metadata": {}
        },
        {
          "output_type": "stream",
          "name": "stdout",
          "text": [
            "智_002.png\n",
            "1/1 [==============================] - 0s 111ms/step\n"
          ]
        },
        {
          "output_type": "display_data",
          "data": {
            "text/plain": [
              "<Figure size 2000x200 with 1 Axes>"
            ],
            "image/png": "[encoded data removed]"
          },
          "metadata": {}
        },
        {
          "output_type": "stream",
          "name": "stdout",
          "text": [
            "人_002.png\n"
          ]
        }
      ]
    }
  ],
  "metadata": {
    "colab": {
      "provenance": [],
      "authorship_tag": "ABX9TyOo62G2BbSj3uH6+5aT3+jb",
      "include_colab_link": true
    },
    "kernelspec": {
      "display_name": "Python 3",
      "name": "python3"
    },
    "language_info": {
      "name": "python"
    }
  },
  "nbformat": 4,
  "nbformat_minor": 0
}